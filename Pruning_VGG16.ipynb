{
  "nbformat": 4,
  "nbformat_minor": 0,
  "metadata": {
    "colab": {
      "provenance": [],
      "gpuType": "T4",
      "authorship_tag": "ABX9TyPHZBbANCTlDpMRM6+X4sYs",
      "include_colab_link": true
    },
    "kernelspec": {
      "name": "python3",
      "display_name": "Python 3"
    },
    "language_info": {
      "name": "python"
    },
    "accelerator": "GPU"
  },
  "cells": [
    {
      "cell_type": "markdown",
      "metadata": {
        "id": "view-in-github",
        "colab_type": "text"
      },
      "source": [
        "<a href=\"https://colab.research.google.com/github/KushalGajjar1/Zero-Shot-and-Pruning-model/blob/main/Pruning_VGG16.ipynb\" target=\"_parent\"><img src=\"https://colab.research.google.com/assets/colab-badge.svg\" alt=\"Open In Colab\"/></a>"
      ]
    },
    {
      "cell_type": "code",
      "execution_count": null,
      "metadata": {
        "colab": {
          "base_uri": "https://localhost:8080/"
        },
        "id": "bh4l5N_yKVye",
        "outputId": "810e89e7-e856-4721-98ad-ec54dfd5d4af"
      },
      "outputs": [
        {
          "output_type": "stream",
          "name": "stdout",
          "text": [
            "Mounted at /content/drive\n"
          ]
        }
      ],
      "source": [
        "from google.colab import drive\n",
        "drive.mount('/content/drive')"
      ]
    },
    {
      "cell_type": "code",
      "source": [
        "pip install -U fvcore"
      ],
      "metadata": {
        "colab": {
          "base_uri": "https://localhost:8080/"
        },
        "id": "08ZhisK0Ks4T",
        "outputId": "d559f29a-e5a8-4c33-830c-175b3e9bb4ef"
      },
      "execution_count": null,
      "outputs": [
        {
          "output_type": "stream",
          "name": "stdout",
          "text": [
            "Collecting fvcore\n",
            "  Downloading fvcore-0.1.5.post20221221.tar.gz (50 kB)\n",
            "\u001b[2K     \u001b[90m━━━━━━━━━━━━━━━━━━━━━━━━━━━━━━━━━━━━━━━━\u001b[0m \u001b[32m50.2/50.2 kB\u001b[0m \u001b[31m912.6 kB/s\u001b[0m eta \u001b[36m0:00:00\u001b[0m\n",
            "\u001b[?25h  Preparing metadata (setup.py) ... \u001b[?25l\u001b[?25hdone\n",
            "Requirement already satisfied: numpy in /usr/local/lib/python3.10/dist-packages (from fvcore) (1.25.2)\n",
            "Collecting yacs>=0.1.6 (from fvcore)\n",
            "  Downloading yacs-0.1.8-py3-none-any.whl (14 kB)\n",
            "Requirement already satisfied: pyyaml>=5.1 in /usr/local/lib/python3.10/dist-packages (from fvcore) (6.0.1)\n",
            "Requirement already satisfied: tqdm in /usr/local/lib/python3.10/dist-packages (from fvcore) (4.66.2)\n",
            "Requirement already satisfied: termcolor>=1.1 in /usr/local/lib/python3.10/dist-packages (from fvcore) (2.4.0)\n",
            "Requirement already satisfied: Pillow in /usr/local/lib/python3.10/dist-packages (from fvcore) (9.4.0)\n",
            "Requirement already satisfied: tabulate in /usr/local/lib/python3.10/dist-packages (from fvcore) (0.9.0)\n",
            "Collecting iopath>=0.1.7 (from fvcore)\n",
            "  Downloading iopath-0.1.10.tar.gz (42 kB)\n",
            "\u001b[2K     \u001b[90m━━━━━━━━━━━━━━━━━━━━━━━━━━━━━━━━━━━━━━━━\u001b[0m \u001b[32m42.2/42.2 kB\u001b[0m \u001b[31m2.9 MB/s\u001b[0m eta \u001b[36m0:00:00\u001b[0m\n",
            "\u001b[?25h  Preparing metadata (setup.py) ... \u001b[?25l\u001b[?25hdone\n",
            "Requirement already satisfied: typing_extensions in /usr/local/lib/python3.10/dist-packages (from iopath>=0.1.7->fvcore) (4.9.0)\n",
            "Collecting portalocker (from iopath>=0.1.7->fvcore)\n",
            "  Downloading portalocker-2.8.2-py3-none-any.whl (17 kB)\n",
            "Building wheels for collected packages: fvcore, iopath\n",
            "  Building wheel for fvcore (setup.py) ... \u001b[?25l\u001b[?25hdone\n",
            "  Created wheel for fvcore: filename=fvcore-0.1.5.post20221221-py3-none-any.whl size=61400 sha256=f4125c41f8aaeb3a6a727ddfcfcf699e168ecea811eebb2961b168826828a8a3\n",
            "  Stored in directory: /root/.cache/pip/wheels/01/c0/af/77c1cf53a1be9e42a52b48e5af2169d40ec2e89f7362489dd0\n",
            "  Building wheel for iopath (setup.py) ... \u001b[?25l\u001b[?25hdone\n",
            "  Created wheel for iopath: filename=iopath-0.1.10-py3-none-any.whl size=31532 sha256=7c6288529165ab29ecd6ac0fd14f2fa82853f2bbbdd2227c06715bf5acd12f3a\n",
            "  Stored in directory: /root/.cache/pip/wheels/9a/a3/b6/ac0fcd1b4ed5cfeb3db92e6a0e476cfd48ed0df92b91080c1d\n",
            "Successfully built fvcore iopath\n",
            "Installing collected packages: yacs, portalocker, iopath, fvcore\n",
            "Successfully installed fvcore-0.1.5.post20221221 iopath-0.1.10 portalocker-2.8.2 yacs-0.1.8\n"
          ]
        }
      ]
    },
    {
      "cell_type": "code",
      "source": [
        "import torch\n",
        "import torch.nn as nn\n",
        "import torch.nn.functional as F\n",
        "import torchvision\n",
        "from torchvision import datasets, transforms\n",
        "from torch.utils.data import DataLoader,TensorDataset\n",
        "import numpy as np\n",
        "import matplotlib.pyplot as plt\n",
        "from torchsummary import summary\n",
        "\n",
        "from tqdm import tqdm\n",
        "\n",
        "from fvcore.nn import parameter_count\n",
        "from fvcore.nn import FlopCountAnalysis"
      ],
      "metadata": {
        "id": "_dtlTD0qK3B4"
      },
      "execution_count": null,
      "outputs": []
    },
    {
      "cell_type": "code",
      "source": [
        "device = torch.device('cuda:0' if torch.cuda.is_available() else 'cpu')"
      ],
      "metadata": {
        "id": "VwD2Sh9WK6Bz"
      },
      "execution_count": null,
      "outputs": []
    },
    {
      "cell_type": "code",
      "source": [
        "def prune_filters(self,indices):\n",
        "\n",
        "      conv_layer=0\n",
        "\n",
        "      for layer_name, layer_module in self.named_modules():\n",
        "\n",
        "        if(isinstance(layer_module, nn.Conv2d)):\n",
        "\n",
        "          if(conv_layer==0):\n",
        "            in_channels=[i for i in range(layer_module.weight.shape[1])]\n",
        "\n",
        "          else:\n",
        "            in_channels=indices[conv_layer-1]\n",
        "\n",
        "          out_channels=indices[conv_layer]\n",
        "          layer_module.weight = nn.Parameter(torch.FloatTensor(torch.from_numpy(layer_module.weight.data.cpu().numpy()[out_channels])))\n",
        "\n",
        "          if layer_module.bias is not None:\n",
        "            layer_module.bias = nn.Parameter(torch.FloatTensor(torch.from_numpy(layer_module.bias.data.cpu().numpy()[out_channels])).to(device))\n",
        "\n",
        "\n",
        "          layer_module.weight = nn.Parameter(torch.FloatTensor(torch.from_numpy(layer_module.weight.data.numpy()[:,in_channels])).to(device))\n",
        "\n",
        "\n",
        "          layer_module.in_channels=len(in_channels)\n",
        "          layer_module.out_channels=len(out_channels)\n",
        "          conv_layer+=1\n",
        "\n",
        "        if (isinstance(layer_module, nn.BatchNorm2d)):\n",
        "            out_channels=indices[conv_layer]\n",
        "\n",
        "            layer_module.weight = nn.Parameter(torch.FloatTensor(torch.from_numpy(layer_module.weight.data.cpu().numpy()[out_channels])).to(device))\n",
        "            layer_module.bias = nn.Parameter(torch.FloatTensor(torch.from_numpy(layer_module.bias.data.cpu().numpy()[out_channels])).to(device))\n",
        "\n",
        "            layer_module.running_mean= torch.from_numpy(layer_module.running_mean.cpu().numpy()[out_channels]).to(device)\n",
        "            layer_module.running_var=torch.from_numpy(layer_module.running_var.cpu().numpy()[out_channels]).to(device)\n",
        "\n",
        "            layer_module.num_features= len(out_channels)\n",
        "\n",
        "        if isinstance(layer_module, nn.Linear):\n",
        "            conv_layer-=1\n",
        "            in_channels=indices[conv_layer]\n",
        "\n",
        "            weight_linear = layer_module.weight.data.cpu().numpy()\n",
        "\n",
        "            size=7*7 # ======================================================================================================= hard coded\n",
        "            expanded_in_channels=[]\n",
        "            for i in in_channels:\n",
        "              for j in range(size):\n",
        "                expanded_in_channels.extend([i*size+j])\n",
        "\n",
        "            layer_module.weight = nn.Parameter(torch.from_numpy(weight_linear[:,expanded_in_channels]).to(device))\n",
        "\n",
        "            layer_module.in_features = len(expanded_in_channels)\n",
        "            break"
      ],
      "metadata": {
        "id": "S1f9eOk2K8BF"
      },
      "execution_count": null,
      "outputs": []
    },
    {
      "cell_type": "code",
      "source": [
        "def get_indices_bottomk(values,prune_limit):\n",
        "\n",
        "      sorted_indices = sorted(range(len(values)), key=lambda k: values[k])\n",
        "      non_pruned_indices = sorted_indices[prune_limit:]\n",
        "      non_pruned_values = [values[i] for i in non_pruned_indices]\n",
        "\n",
        "      return non_pruned_indices"
      ],
      "metadata": {
        "id": "q06NaRP1K9X2"
      },
      "execution_count": null,
      "outputs": []
    },
    {
      "cell_type": "code",
      "source": [
        "url = '/content/drive/MyDrive/Data_Tomato_Potato/Preprocessed_data/'\n",
        "\n",
        "data_potato = np.load(url + 'Potato_LHE/data_Potato_LHE.npy')\n",
        "label_potato = np.load(url + 'Potato_LHE/label_Potato_LHE.npy')\n",
        "\n",
        "fake_data_potato = np.load(url + 'Potato_LHE/Fake_data_Potato_LHE_300.npy')\n",
        "fake_label_potato = np.load(url + 'Potato_LHE/Fake_label_Potato_LHE_300.npy')\n",
        "\n",
        "merge_data_potato = np.concatenate((data_potato, fake_data_potato))\n",
        "merge_label_potato = np.concatenate((label_potato, fake_label_potato))\n",
        "\n",
        "data_tomato = np.load(url + 'Tomato_LHE/data_Tomato_LHE.npy')\n",
        "label_tomato = np.load(url + 'Tomato_LHE/label_Tomato_LHE.npy')\n",
        "\n",
        "merge_data_potato_norm = merge_data_potato/np.max(merge_data_potato)\n",
        "data_tomato_norm = data_tomato/np.max(data_tomato)\n",
        "\n",
        "data_potato_tensor = torch.tensor(merge_data_potato_norm).float()\n",
        "data_potato_tensor = torch.transpose(data_potato_tensor, 3, 1)\n",
        "\n",
        "label_potato_tensor = torch.tensor(merge_label_potato).long()\n",
        "print(label_potato_tensor.shape)\n",
        "\n",
        "data_tomato_tensor = torch.tensor(data_tomato_norm).float()\n",
        "data_tomato_tensor = torch.transpose(data_tomato_tensor, 3, 1)\n",
        "\n",
        "label_tomato_tensor = torch.tensor(label_tomato).long()\n",
        "print(label_tomato_tensor.shape)\n",
        "\n",
        "train_data = data_tomato_tensor # data_potato_tensor\n",
        "train_label = label_tomato_tensor # label_potato_tensor\n",
        "\n",
        "test_data = data_potato_tensor # data_tomato_tensor\n",
        "test_label = label_potato_tensor #label_tomato_tensor\n",
        "\n",
        "train_data = TensorDataset(train_data,train_label)\n",
        "test_data = TensorDataset(test_data,test_label)"
      ],
      "metadata": {
        "colab": {
          "base_uri": "https://localhost:8080/"
        },
        "id": "r1SQSgpgLBJT",
        "outputId": "8ebad4cf-3c32-4380-a2a0-9dda43b65306"
      },
      "execution_count": null,
      "outputs": [
        {
          "output_type": "stream",
          "name": "stdout",
          "text": [
            "torch.Size([3052])\n",
            "torch.Size([4499])\n"
          ]
        }
      ]
    },
    {
      "cell_type": "code",
      "source": [
        "batchsize = 100\n",
        "\n",
        "train_loader = DataLoader(train_data, batch_size=batchsize, shuffle=True, drop_last=True)\n",
        "\n",
        "print(test_data.tensors[0].shape)\n",
        "test_loader = DataLoader(test_data, batch_size=batchsize)"
      ],
      "metadata": {
        "colab": {
          "base_uri": "https://localhost:8080/"
        },
        "id": "aWwI0CsxLSG3",
        "outputId": "b77ebef3-1645-464e-e891-a640d657c0a3"
      },
      "execution_count": null,
      "outputs": [
        {
          "output_type": "stream",
          "name": "stdout",
          "text": [
            "torch.Size([3052, 3, 64, 64])\n"
          ]
        }
      ]
    },
    {
      "cell_type": "code",
      "source": [
        "output = 3\n",
        "epochs = 20"
      ],
      "metadata": {
        "id": "U39aiCjJLXCp"
      },
      "execution_count": null,
      "outputs": []
    },
    {
      "cell_type": "code",
      "source": [
        "def trainModel(model, optimizer, criterion):\n",
        "\n",
        "    model.to(device)\n",
        "\n",
        "    for epoch in range(epochs):\n",
        "\n",
        "        train_acc = []\n",
        "\n",
        "        for batch_num, (inputs, targets) in enumerate(train_loader):\n",
        "\n",
        "            inputs = inputs.to(device)\n",
        "            targets = targets.to(device)\n",
        "\n",
        "            model.train()\n",
        "\n",
        "            optimizer.zero_grad()\n",
        "            output = model(inputs)\n",
        "            loss = criterion(output, targets)\n",
        "            loss.backward()\n",
        "            optimizer.step()\n",
        "\n",
        "            with torch.no_grad():\n",
        "                y_hat = torch.argmax(output, 1)\n",
        "                score = torch.eq(y_hat, targets).sum()\n",
        "                train_acc.append((score.item()/batchsize)*100)\n",
        "\n",
        "        with torch.no_grad():\n",
        "            epoch_train_acc = np.mean(np.array(train_acc))\n",
        "\n",
        "            test_acc = []\n",
        "\n",
        "            model.eval()\n",
        "\n",
        "            for batch_nums_test, (inputs_test, targets_test) in enumerate(test_loader):\n",
        "\n",
        "                inputs_test = inputs_test.to(device)\n",
        "                targets_test = targets_test.to(device)\n",
        "\n",
        "                output_test = model(inputs_test)\n",
        "\n",
        "                y_hat_test = torch.argmax(output_test, 1)\n",
        "                score_test = torch.eq(y_hat_test, targets_test).sum()\n",
        "                test_acc.append((score_test.item()/batchsize)*100)\n",
        "\n",
        "            epoch_test_acc = np.mean(np.array(test_acc))\n",
        "\n",
        "\n",
        "    return epoch_train_acc, epoch_test_acc"
      ],
      "metadata": {
        "id": "ySZIz0PiLclr"
      },
      "execution_count": null,
      "outputs": []
    },
    {
      "cell_type": "code",
      "source": [
        "def getTestAcc(model):\n",
        "\n",
        "    test_acc = []\n",
        "    model.eval()\n",
        "\n",
        "    for batch_nums_test, (inputs_test, targets_test) in enumerate(test_loader):\n",
        "\n",
        "        inputs_test = inputs_test.to(device)\n",
        "        targets_test = targets_test.to(device)\n",
        "\n",
        "        output_test = model(inputs_test)\n",
        "\n",
        "        y_hat_test = torch.argmax(output_test, 1)\n",
        "        score_test = torch.eq(y_hat_test, targets_test).sum()\n",
        "        test_acc.append((score_test.item()/batchsize)*100)\n",
        "\n",
        "    return np.mean(np.array(test_acc))"
      ],
      "metadata": {
        "id": "4uknrLdMLfPX"
      },
      "execution_count": null,
      "outputs": []
    },
    {
      "cell_type": "code",
      "source": [
        "def getGraph(valuesY, valuesX):\n",
        "\n",
        "    x = np.array(valuesX)\n",
        "    y = np.array(valuesY)\n",
        "\n",
        "    plt.ylabel(\"Accuracy\")\n",
        "    plt.xlabel(\"Percent Pruned\")\n",
        "    plt.plot(x, y)\n",
        "    plt.show()"
      ],
      "metadata": {
        "id": "xsn4NWgeLiP2"
      },
      "execution_count": null,
      "outputs": []
    },
    {
      "cell_type": "code",
      "source": [
        "ActualModel = torchvision.models.vgg16(pretrained=True)\n",
        "ActualModel.classifier[6] = nn.Linear(4096, output)"
      ],
      "metadata": {
        "colab": {
          "base_uri": "https://localhost:8080/"
        },
        "id": "PZ9dIIt-Lky1",
        "outputId": "ac7cc041-36ab-49d0-eb67-f5d2c9c8b325"
      },
      "execution_count": null,
      "outputs": [
        {
          "output_type": "stream",
          "name": "stderr",
          "text": [
            "/usr/local/lib/python3.10/dist-packages/torchvision/models/_utils.py:208: UserWarning: The parameter 'pretrained' is deprecated since 0.13 and may be removed in the future, please use 'weights' instead.\n",
            "  warnings.warn(\n",
            "/usr/local/lib/python3.10/dist-packages/torchvision/models/_utils.py:223: UserWarning: Arguments other than a weight enum or `None` for 'weights' are deprecated since 0.13 and may be removed in the future. The current behavior is equivalent to passing `weights=VGG16_Weights.IMAGENET1K_V1`. You can also use `weights=VGG16_Weights.DEFAULT` to get the most up-to-date weights.\n",
            "  warnings.warn(msg)\n",
            "Downloading: \"https://download.pytorch.org/models/vgg16-397923af.pth\" to /root/.cache/torch/hub/checkpoints/vgg16-397923af.pth\n",
            "100%|██████████| 528M/528M [00:07<00:00, 72.8MB/s]\n"
          ]
        }
      ]
    },
    {
      "cell_type": "code",
      "source": [
        "criterion = nn.CrossEntropyLoss()\n",
        "optimizer = torch.optim.SGD(ActualModel.parameters(), lr=0.001, momentum=0.9)"
      ],
      "metadata": {
        "id": "ixOJsD2lLnRd"
      },
      "execution_count": null,
      "outputs": []
    },
    {
      "cell_type": "code",
      "source": [
        "train_acc_before_pruning, test_acc_before_pruning = trainModel(ActualModel, optimizer, criterion)"
      ],
      "metadata": {
        "id": "8RWHW_8lMapx"
      },
      "execution_count": null,
      "outputs": []
    },
    {
      "cell_type": "code",
      "source": [
        "train_acc_before_pruning, test_acc_before_pruning"
      ],
      "metadata": {
        "colab": {
          "base_uri": "https://localhost:8080/"
        },
        "id": "70zcHUCkMdeR",
        "outputId": "e08e5640-2697-44c8-c247-a3a842ddd63d"
      },
      "execution_count": null,
      "outputs": [
        {
          "output_type": "execute_result",
          "data": {
            "text/plain": [
              "(99.97727272727273, 61.193548387096776)"
            ]
          },
          "metadata": {},
          "execution_count": 16
        }
      ]
    },
    {
      "cell_type": "code",
      "source": [
        "print(sum(p.numel() for p in ActualModel.parameters()))\n",
        "total_params_original = parameter_count(ActualModel)[\"\"]\n",
        "print(f\"Total parameters : {total_params_original}\")\n",
        "\n",
        "input = (torch.randn((1, 3, 224, 224)), )\n",
        "flops_original = FlopCountAnalysis(ActualModel.to('cpu'), input)\n",
        "total_original_flops = flops_original.total()\n",
        "print(f\"Total FLOPS : {total_original_flops}\")\n",
        "\n",
        "torch.save(ActualModel.state_dict(), 'TrainedModel.pt')"
      ],
      "metadata": {
        "colab": {
          "base_uri": "https://localhost:8080/"
        },
        "id": "M3UpNoFfLo6M",
        "outputId": "5326848a-a18c-48e3-e6a3-46455e8b77ec"
      },
      "execution_count": null,
      "outputs": [
        {
          "output_type": "stream",
          "name": "stdout",
          "text": [
            "134272835\n",
            "Total parameters : 134272835\n"
          ]
        },
        {
          "output_type": "stream",
          "name": "stderr",
          "text": [
            "WARNING:fvcore.nn.jit_analysis:Unsupported operator aten::max_pool2d encountered 5 time(s)\n"
          ]
        },
        {
          "output_type": "stream",
          "name": "stdout",
          "text": [
            "Total FLOPS : 15466205696\n"
          ]
        }
      ]
    },
    {
      "cell_type": "code",
      "source": [
        "prune_limit = [[2, 2, 4, 4, 8, 8, 8, 16, 16, 16, 16, 16, 16],\n",
        "               [4, 4, 8, 8, 16, 16, 16, 32, 32, 32, 32, 32, 32],\n",
        "               [8, 8, 16, 16, 32, 32, 32, 64, 64, 64, 64, 64, 64],\n",
        "               [16, 16, 32, 32, 64, 64, 64, 128, 128, 128, 128, 128, 128],\n",
        "               [32, 32, 64, 64, 128, 128, 128, 256, 256, 256, 256, 256, 256]]"
      ],
      "metadata": {
        "id": "wzCTQuT6M7iV"
      },
      "execution_count": null,
      "outputs": []
    },
    {
      "cell_type": "code",
      "source": [
        "percentageParameterPruned = []\n",
        "percentageFLOPSPruned = []\n",
        "parameters = []\n",
        "FLOPS = []\n",
        "testAccRetraining = []\n",
        "\n",
        "for prune_limits in tqdm(prune_limit):\n",
        "\n",
        "  model = torchvision.models.vgg16(pretrained=True)\n",
        "  model.classifier[6] = nn.Linear(4096, output)\n",
        "  model.load_state_dict(torch.load('TrainedModel.pt'))\n",
        "\n",
        "  l1Norm = []\n",
        "\n",
        "  for layer_name, layer_module in model.named_modules():\n",
        "    if(isinstance(layer_module, nn.Conv2d)):\n",
        "      temp= []\n",
        "      filter_weight = layer_module.weight.clone()\n",
        "      for k in range(filter_weight.size()[0]):\n",
        "        temp.append(float(\"{:.6f}\".format((filter_weight[k, :, :, :]).norm(1).item())))\n",
        "      l1Norm.append(temp)\n",
        "\n",
        "  layer_bound = l1Norm\n",
        "  dec_indices = []\n",
        "\n",
        "  for i in range(len(layer_bound)):\n",
        "    temp = []\n",
        "    temp = get_indices_bottomk(layer_bound[i], prune_limits[i])\n",
        "    dec_indices.append(temp)\n",
        "\n",
        "  prune_filters(model, dec_indices)\n",
        "\n",
        "  total_params = parameter_count(model)[\"\"]\n",
        "  parameters.append(total_params)\n",
        "  percentageParameterPruned.append(100-((total_params/total_params_original)*100))\n",
        "\n",
        "  input = (torch.randn((1, 3, 224, 224)), )\n",
        "  flops = FlopCountAnalysis(model.to('cpu'), input)\n",
        "  total_flops = flops.total()\n",
        "  FLOPS.append(total_flops)\n",
        "  percentageFLOPSPruned.append(100-((total_flops/total_original_flops)*100))\n",
        "\n",
        "\n",
        "  train_acc_retraining, test_acc_retraining = trainModel(model, optimizer, criterion)\n",
        "  testAccRetraining.append(test_acc_retraining)"
      ],
      "metadata": {
        "colab": {
          "base_uri": "https://localhost:8080/"
        },
        "id": "s_iljc7nMqhy",
        "outputId": "878bc0fe-5da4-48fc-8832-fc4ee3160977"
      },
      "execution_count": null,
      "outputs": [
        {
          "output_type": "stream",
          "name": "stderr",
          "text": [
            "\r  0%|          | 0/5 [00:00<?, ?it/s]/usr/local/lib/python3.10/dist-packages/torchvision/models/_utils.py:208: UserWarning: The parameter 'pretrained' is deprecated since 0.13 and may be removed in the future, please use 'weights' instead.\n",
            "  warnings.warn(\n",
            "/usr/local/lib/python3.10/dist-packages/torchvision/models/_utils.py:223: UserWarning: Arguments other than a weight enum or `None` for 'weights' are deprecated since 0.13 and may be removed in the future. The current behavior is equivalent to passing `weights=VGG16_Weights.IMAGENET1K_V1`. You can also use `weights=VGG16_Weights.DEFAULT` to get the most up-to-date weights.\n",
            "  warnings.warn(msg)\n",
            "WARNING:fvcore.nn.jit_analysis:Unsupported operator aten::max_pool2d encountered 5 time(s)\n",
            " 20%|██        | 1/5 [02:41<10:46, 161.66s/it]/usr/local/lib/python3.10/dist-packages/torchvision/models/_utils.py:208: UserWarning: The parameter 'pretrained' is deprecated since 0.13 and may be removed in the future, please use 'weights' instead.\n",
            "  warnings.warn(\n",
            "/usr/local/lib/python3.10/dist-packages/torchvision/models/_utils.py:223: UserWarning: Arguments other than a weight enum or `None` for 'weights' are deprecated since 0.13 and may be removed in the future. The current behavior is equivalent to passing `weights=VGG16_Weights.IMAGENET1K_V1`. You can also use `weights=VGG16_Weights.DEFAULT` to get the most up-to-date weights.\n",
            "  warnings.warn(msg)\n",
            "WARNING:fvcore.nn.jit_analysis:Unsupported operator aten::max_pool2d encountered 5 time(s)\n",
            " 40%|████      | 2/5 [05:16<07:53, 157.82s/it]/usr/local/lib/python3.10/dist-packages/torchvision/models/_utils.py:208: UserWarning: The parameter 'pretrained' is deprecated since 0.13 and may be removed in the future, please use 'weights' instead.\n",
            "  warnings.warn(\n",
            "/usr/local/lib/python3.10/dist-packages/torchvision/models/_utils.py:223: UserWarning: Arguments other than a weight enum or `None` for 'weights' are deprecated since 0.13 and may be removed in the future. The current behavior is equivalent to passing `weights=VGG16_Weights.IMAGENET1K_V1`. You can also use `weights=VGG16_Weights.DEFAULT` to get the most up-to-date weights.\n",
            "  warnings.warn(msg)\n",
            "WARNING:fvcore.nn.jit_analysis:Unsupported operator aten::max_pool2d encountered 5 time(s)\n",
            " 60%|██████    | 3/5 [07:38<05:01, 150.53s/it]/usr/local/lib/python3.10/dist-packages/torchvision/models/_utils.py:208: UserWarning: The parameter 'pretrained' is deprecated since 0.13 and may be removed in the future, please use 'weights' instead.\n",
            "  warnings.warn(\n",
            "/usr/local/lib/python3.10/dist-packages/torchvision/models/_utils.py:223: UserWarning: Arguments other than a weight enum or `None` for 'weights' are deprecated since 0.13 and may be removed in the future. The current behavior is equivalent to passing `weights=VGG16_Weights.IMAGENET1K_V1`. You can also use `weights=VGG16_Weights.DEFAULT` to get the most up-to-date weights.\n",
            "  warnings.warn(msg)\n",
            "WARNING:fvcore.nn.jit_analysis:Unsupported operator aten::max_pool2d encountered 5 time(s)\n",
            " 80%|████████  | 4/5 [09:40<02:19, 139.10s/it]/usr/local/lib/python3.10/dist-packages/torchvision/models/_utils.py:208: UserWarning: The parameter 'pretrained' is deprecated since 0.13 and may be removed in the future, please use 'weights' instead.\n",
            "  warnings.warn(\n",
            "/usr/local/lib/python3.10/dist-packages/torchvision/models/_utils.py:223: UserWarning: Arguments other than a weight enum or `None` for 'weights' are deprecated since 0.13 and may be removed in the future. The current behavior is equivalent to passing `weights=VGG16_Weights.IMAGENET1K_V1`. You can also use `weights=VGG16_Weights.DEFAULT` to get the most up-to-date weights.\n",
            "  warnings.warn(msg)\n",
            "WARNING:fvcore.nn.jit_analysis:Unsupported operator aten::max_pool2d encountered 5 time(s)\n",
            "100%|██████████| 5/5 [10:54<00:00, 130.97s/it]\n"
          ]
        }
      ]
    },
    {
      "cell_type": "code",
      "source": [
        "for i in range(len(percentageParameterPruned)):\n",
        "  print(f\"percent : {percentageParameterPruned[i]} Acc : {testAccRetraining[i]}\")"
      ],
      "metadata": {
        "colab": {
          "base_uri": "https://localhost:8080/"
        },
        "id": "IbhTxwq0MrP2",
        "outputId": "d2fa0af9-3c8b-4ecd-94bb-e1f1d4e8a3ea"
      },
      "execution_count": null,
      "outputs": [
        {
          "output_type": "stream",
          "name": "stdout",
          "text": [
            "percent : 3.065684879596091 Acc : 55.774193548387096\n",
            "percent : 6.109974515694105 Acc : 64.25806451612904\n",
            "percent : 12.134368057395974 Acc : 63.0\n",
            "percent : 23.926412218822975 Acc : 50.193548387096776\n",
            "percent : 46.48352885377002 Acc : 41.935483870967744\n"
          ]
        }
      ]
    },
    {
      "cell_type": "code",
      "source": [
        "getGraph(testAccRetraining, percentageParameterPruned)"
      ],
      "metadata": {
        "colab": {
          "base_uri": "https://localhost:8080/"
        },
        "id": "H_3cMrLtMt1D",
        "outputId": "5fbc813d-82bc-408c-ae97-91ff8a01828b"
      },
      "execution_count": null,
      "outputs": [
        {
          "output_type": "display_data",
          "data": {
            "text/plain": [
              "<Figure size 640x480 with 1 Axes>"
            ],
            "image/png": "[encoded data removed]"
          },
          "metadata": {}
        }
      ]
    },
    {
      "cell_type": "code",
      "source": [
        "for i in range(len(percentageFLOPSPruned)):\n",
        "  print(f\"percent : {percentageFLOPSPruned[i]} Acc : {testAccRetraining[i]}\")"
      ],
      "metadata": {
        "colab": {
          "base_uri": "https://localhost:8080/"
        },
        "id": "hOVcRZmjMt3t",
        "outputId": "10b5b83c-ad60-4677-d4ed-7bc7c4ca4300"
      },
      "execution_count": null,
      "outputs": [
        {
          "output_type": "stream",
          "name": "stdout",
          "text": [
            "percent : 6.108574440105514 Acc : 55.774193548387096\n",
            "percent : 12.024441343625597 Acc : 64.25806451612904\n",
            "percent : 23.278052540909385 Acc : 63.0\n",
            "percent : 43.47278449645159 Acc : 50.193548387096776\n",
            "percent : 74.61228665143443 Acc : 41.935483870967744\n"
          ]
        }
      ]
    },
    {
      "cell_type": "code",
      "source": [
        "getGraph(testAccRetraining, percentageFLOPSPruned)"
      ],
      "metadata": {
        "colab": {
          "base_uri": "https://localhost:8080/"
        },
        "id": "Ll8CT1lBMxzx",
        "outputId": "7d5efed9-28f3-4bbc-8f29-204b8505dd27"
      },
      "execution_count": null,
      "outputs": [
        {
          "output_type": "display_data",
          "data": {
            "text/plain": [
              "<Figure size 640x480 with 1 Axes>"
            ],
            "image/png": "[encoded data removed]"
          },
          "metadata": {}
        }
      ]
    },
    {
      "cell_type": "code",
      "source": [],
      "metadata": {
        "id": "U1VnE_EzNYwk"
      },
      "execution_count": null,
      "outputs": []
    }
  ]
}